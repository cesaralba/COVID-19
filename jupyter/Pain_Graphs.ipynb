{
 "cells": [
  {
   "cell_type": "code",
   "execution_count": null,
   "metadata": {},
   "outputs": [],
   "source": [
    "# Cargamos datos\n",
    "import Loading_data \n",
    "from matplotlib import pyplot as plt    \n",
    "import warnings\n",
    "warnings.filterwarnings('ignore')\n",
    "\n",
    "\n",
    "COMUNIDAD_A_CONSIDERAR = 'Madrid'\n",
    "comunidad = Loading_data.Get_Comunidad(COMUNIDAD_A_CONSIDERAR)\n",
    "comunidad\n",
    "\n"
   ]
  },
  {
   "cell_type": "code",
   "execution_count": null,
   "metadata": {},
   "outputs": [],
   "source": [
    "import Loading_data \n",
    "\n",
    "from Loading_data import Get_Comunidades_List as comunidades\n",
    "COMUNIDADES = comunidades()\n",
    "COMUNIDADES"
   ]
  },
  {
   "cell_type": "code",
   "execution_count": null,
   "metadata": {},
   "outputs": [],
   "source": [
    "import pandas as pd\n",
    "\n",
    "\n",
    "def Get_Dimensions_All_CCAA(Atributos,media_movil ):\n",
    "    array = []\n",
    "    dias_a_considerar = 4 if media_movil else 1\n",
    "    for ca in COMUNIDADES: \n",
    "        \n",
    "        comunidad = Loading_data.Get_Comunidad(ca).head(dias_a_considerar)\n",
    "        comunidad = comunidad.reset_index() # Resets the index, makes factor a column\n",
    "        if media_movil : comunidad = pd.DataFrame(comunidad.mean(axis=0)).T \n",
    "        temp_dict = {}\n",
    "        temp_dict['Lugar'] = ca\n",
    "        for attr in Atributos:\n",
    "            temp_dict[attr] = comunidad[attr].iloc[0]\n",
    "        array.append(temp_dict)\n",
    "\n",
    "    return pd.DataFrame.from_records(array)\n",
    "\n"
   ]
  },
  {
   "cell_type": "code",
   "execution_count": null,
   "metadata": {},
   "outputs": [],
   "source": [
    "import scipy.stats as spstats\n",
    "\n",
    "def Print_Two_Cordinates_CCAA(df, add_LR=False):\n",
    "    fig,ax = plt.subplots()\n",
    "    fig.set_figheight(8)\n",
    "    fig.set_figwidth(8)\n",
    "    ax.axhline(y=0, color='blue')\n",
    "    ax.axvline(x=0, color='blue')\n",
    "\n",
    "    for k,d in df.groupby('Lugar'):\n",
    "        ax.scatter(d[df.columns[1]], d[df.columns[2]], label=k)\n",
    "\n",
    "    plt.legend(bbox_to_anchor=(0, 1), loc='upper left', ncol=1)\n",
    "    \n",
    "    if add_LR:\n",
    "        slope, intercept, r_value, p_value, std_err = spstats.linregress(df[df.columns[1]], df[df.columns[2]])\n",
    "        plt.plot(df[df.columns[1]], intercept + slope*df[df.columns[1]], 'r', label='fitted line')\n",
    "        #.format(round(slope, 2),round(intercept, 2),round(r_value, 2))\n",
    "        note2add = f'slope: {slope:12.4f}\\nintercept: {intercept:8.2f}\\nr2: {r_value:15.4f}'\n",
    "        plt.annotate(note2add,xy=(0.7,0.3), xycoords='figure fraction')\n",
    "        \n",
    "    ax.set_xlabel(df.columns[1])\n",
    "    ax.set_ylabel(df.columns[2])\n",
    "    ax.set_title(df.columns[1]+ ' VS. ' + df.columns[2])\n",
    "    \n",
    "    return plt\n"
   ]
  },
  {
   "cell_type": "code",
   "execution_count": null,
   "metadata": {},
   "outputs": [],
   "source": [
    "from IPython.display import display, HTML\n",
    "\n",
    "\n",
    "def Comparar_Dos_Dimensiones(Atributos, media_movil=False, add_LR=False ):\n",
    "    \"\"\" Compara dos dimensiones de atributos, Ma indica si hacerlo con la media movil\"\"\"\n",
    "    \n",
    "    df = Get_Dimensions_All_CCAA(Atributos,media_movil )\n",
    "    df = df.sort_values(by=[df.columns[1],df.columns[2]])\n",
    "    plt = Print_Two_Cordinates_CCAA(df, add_LR)\n",
    "    plt.show()\n",
    "    print(  'Total: '  + df.columns[1], df[df.columns[1]].sum() )\n",
    "    print(  'Total: '  + df.columns[2], df[df.columns[2]].sum() )\n",
    "    display(HTML(df.set_index('Lugar').to_html(index=True)))\n",
    "    return \n",
    "\n",
    "  "
   ]
  },
  {
   "cell_type": "code",
   "execution_count": null,
   "metadata": {},
   "outputs": [],
   "source": [
    "Comparar_Dos_Dimensiones(['Casos', 'Fallecidos'],add_LR=True )   "
   ]
  },
  {
   "cell_type": "code",
   "execution_count": null,
   "metadata": {},
   "outputs": [],
   "source": [
    "Comparar_Dos_Dimensiones(['Casos hoy absoluto', 'Fallecidos hoy absoluto'])"
   ]
  },
  {
   "cell_type": "code",
   "execution_count": null,
   "metadata": {},
   "outputs": [],
   "source": [
    "Comparar_Dos_Dimensiones(['Casos hoy variacion respecto ayer', 'Fallecidos hoy variacion respecto ayer'])"
   ]
  },
  {
   "cell_type": "code",
   "execution_count": null,
   "metadata": {},
   "outputs": [],
   "source": [
    "# Cargamos datos\n",
    "import pandas as pd\n",
    "import Loading_data \n",
    "\n",
    "from Loading_data import Get_Comunidades_List as comunidades\n",
    "COMUNIDADES = comunidades()\n",
    "\n",
    "def Get_Dimension_CCAA(Dimension,include_nation=False):\n",
    "    def Do_Stuff_to_DF(df):\n",
    "        df = df.sort_values(by='Fecha')\n",
    "        # df = df.reset_index() # Resets the index, makes factor a column    \n",
    "        df = df[df[\"Casos\"] >= 100]\n",
    "        return df\n",
    "        \n",
    "    dimension_df = pd.DataFrame()\n",
    "    for ca in COMUNIDADES: \n",
    "        df = Loading_data.Get_Comunidad(ca)\n",
    "        df = Do_Stuff_to_DF(df)\n",
    "        dimension_df[ca] = df[Dimension]\n",
    "    if include_nation:\n",
    "        df = Loading_data.Get_Nacion()\n",
    "        df = Do_Stuff_to_DF(df)\n",
    "        dimension_df['TOTAL'] = df[Dimension]\n",
    "        \n",
    "    return dimension_df \n"
   ]
  },
  {
   "cell_type": "code",
   "execution_count": null,
   "metadata": {},
   "outputs": [],
   "source": [
    "from matplotlib import pyplot as plt    \n",
    "from IPython.display import display, HTML\n",
    "import pandas as pd\n",
    "\n",
    "import numpy as np\n",
    "\n",
    "\n",
    "def compare_charts_median(Dimension,df): \n",
    "    short_df = df.tail(1)\n",
    "    short_df = short_df.T\n",
    "    short_df = short_df.sort_values(by=(short_df.columns[0]))\n",
    "    short_df.columns = [Dimension]\n",
    "\n",
    "    #mean_y = short_df.median(axis=1)[0]\n",
    "    #mean_y= df.tail(1).T.median().values[0]\n",
    "    median_y= df.tail(1).T.drop(axis=0,labels=(['TOTAL'] if 'TOTAL' in short_df.index else [])).median().values[0]\n",
    "    x = short_df.index\n",
    "    y = short_df[Dimension]\n",
    "\n",
    "    plt.figure(figsize = (10, 5))\n",
    "    plt.scatter(x, y, c= \"red\", alpha = 0.5)\n",
    "    plt.title(Dimension + \" by region\")\n",
    "    color = 'blue'\n",
    "    plt.xticks(rotation=90)\n",
    "    plt.axhline(median_y, c = color, alpha = 0.5, lw = 1)\n",
    "    plt.annotate('Median ' + Dimension+  ' is {}'.format(round(median_y, 2)),\n",
    "            xy=(8.5, median_y),\n",
    "            xycoords='data',\n",
    "            xytext=(-50, 50), \n",
    "            textcoords='offset points',\n",
    "            arrowprops=dict(arrowstyle=\"->\", color = \"k\", alpha = 0.5),\n",
    "            color = color)\n",
    "    return\n",
    "\n",
    "def compare_charts_time(Dimension,df):\n",
    "    fig = plt.figure(figsize=(8, 6), dpi=80)\n",
    "    df = df.reset_index()\n",
    "    if 'Fecha' in df.columns:\n",
    "        df = df.drop(labels=['Fecha'],axis=1)\n",
    "    for ca in df.columns:\n",
    "        plt.plot(df[ca])\n",
    "    plt.legend(df.columns)\n",
    "    fig.suptitle('Comparativa de: '+Dimension+', igualando los dias', fontsize=20)\n",
    "    plt.show()\n",
    "    return \n",
    "\n",
    "def Report_Location(Dimension,include_nation=False):\n",
    "    # Ger Data\n",
    "    df = Get_Dimension_CCAA(Dimension,include_nation)\n",
    "    # Compare chart\n",
    "    compare_charts_time(Dimension,df)\n",
    "    # Compare median chart\n",
    "    compare_charts_median(Dimension,df)\n",
    "    \n",
    "    with pd.option_context(\"display.max_rows\", 1000):\n",
    "        display(HTML(df.to_html()))\n",
    "    return \n"
   ]
  },
  {
   "cell_type": "code",
   "execution_count": null,
   "metadata": {},
   "outputs": [],
   "source": [
    "Report_Location(\"Fallecidos\")"
   ]
  },
  {
   "cell_type": "code",
   "execution_count": null,
   "metadata": {
    "scrolled": true
   },
   "outputs": [],
   "source": [
    "Report_Location(\"Fallecidos hoy absoluto\") "
   ]
  },
  {
   "cell_type": "code",
   "execution_count": null,
   "metadata": {},
   "outputs": [],
   "source": [
    "Report_Location(\"Tasa Mortalidad\",True)"
   ]
  },
  {
   "cell_type": "code",
   "execution_count": null,
   "metadata": {},
   "outputs": [],
   "source": [
    "Report_Location(\"Casos\") "
   ]
  },
  {
   "cell_type": "code",
   "execution_count": null,
   "metadata": {
    "scrolled": true
   },
   "outputs": [],
   "source": [
    "Report_Location(\"Casos hoy absoluto\")"
   ]
  },
  {
   "cell_type": "code",
   "execution_count": null,
   "metadata": {},
   "outputs": [],
   "source": [
    "Report_Location(\"Casos hoy variacion respecto ayer\")"
   ]
  },
  {
   "cell_type": "code",
   "execution_count": null,
   "metadata": {},
   "outputs": [],
   "source": [
    "Report_Location(\"Proporcion Curados / Casos\",True)"
   ]
  },
  {
   "cell_type": "code",
   "execution_count": null,
   "metadata": {},
   "outputs": [],
   "source": [
    "Report_Location(\"Curados\")"
   ]
  },
  {
   "cell_type": "markdown",
   "metadata": {},
   "source": [
    "## ¿Hemos alcanzado el pico de la curva?\n"
   ]
  },
  {
   "cell_type": "markdown",
   "metadata": {},
   "source": [
    "### Casos totales españa, evolucion\n"
   ]
  },
  {
   "cell_type": "code",
   "execution_count": null,
   "metadata": {},
   "outputs": [],
   "source": [
    "# Casos totales españa, evolucion\n",
    "import Loading_data \n",
    "\n",
    "Dimension = 'Fallecidos'\n",
    "df = Get_Dimension_CCAA(Dimension)\n",
    "\n",
    "df['Total Fallecidos'] = df.sum(axis=1)\n",
    "df['Total Fallecidos']\n",
    "\n",
    "CONVERT_INT_COLUMNS = ['Total Fallecidos']\n",
    "for column in CONVERT_INT_COLUMNS :\n",
    "    df[column] = df[column].fillna(0)\n",
    "    df[column] = df[column].astype(np.int64)\n",
    "        \n",
    "#df['MA variation']=  df['MA'] - df['MA'].shift(1)\n",
    "df['Total Fallecidos hoy absoluto'] = df['Total Fallecidos'] - df['Total Fallecidos'].shift(1)\n",
    "df['MA Total Fallecidos hoy absoluto'] = df['Total Fallecidos hoy absoluto'].rolling(window=4).mean()\n",
    "\n",
    "df['Variacion MA Total Fallecidos hoy absoluto'] = df['MA Total Fallecidos hoy absoluto'] - df['MA Total Fallecidos hoy absoluto'].shift(1)\n",
    "\n",
    "df_plt = df[['Total Fallecidos hoy absoluto','MA Total Fallecidos hoy absoluto']]\n",
    "fig = plt.figure(figsize=(8, 6), dpi=80)\n",
    "plt.plot(df_plt, marker='o') \n",
    "plt.legend(df_plt.columns)\n",
    "fig.suptitle( \"Total fallecidos en España\", fontsize=20)\n",
    "\n",
    "df[['Total Fallecidos',\n",
    "    'Total Fallecidos hoy absoluto',\n",
    "    'MA Total Fallecidos hoy absoluto',\n",
    "    'Variacion MA Total Fallecidos hoy absoluto']]\n"
   ]
  },
  {
   "cell_type": "code",
   "execution_count": null,
   "metadata": {},
   "outputs": [],
   "source": [
    "MOVING_AVERAGE_WINDOW = 4\n",
    "def report_single_location_single_dimension(location,dimension,window_size=MOVING_AVERAGE_WINDOW):\n",
    "    \n",
    "    Dimension = 'Fallecidos'\n",
    "\n",
    "    df = pd.DataFrame()\n",
    "    df[dimension] = Get_Dimension_CCAA(dimension)[location]\n",
    "    df['Moving Average ' + dimension] = df[dimension].rolling(window=window_size).mean()\n",
    "\n",
    "    display(HTML(\"<h2>Analisis de ''\" + dimension +\"'', en \" + location + \"</h2>\"))\n",
    "    fig = plt.figure(figsize=(8, 6), dpi=80)\n",
    "    plt.plot(df, marker='o') \n",
    "    plt.title(\"Gráfico de \" + dimension +\", en \" + location)\n",
    "\n",
    "    plt.legend(df.columns)\n",
    "    fig.suptitle( dimension + ' in ' + location, fontsize=20)\n",
    "\n",
    "    display(HTML(pd.DataFrame(df).to_html()))\n",
    "    return  \n"
   ]
  },
  {
   "cell_type": "markdown",
   "metadata": {},
   "source": [
    "### Casos totales españa, evolucion\n"
   ]
  },
  {
   "cell_type": "code",
   "execution_count": null,
   "metadata": {},
   "outputs": [],
   "source": [
    "\n",
    "dimension = 'Fallecidos hoy absoluto'\n",
    "report_single_location_single_dimension('Madrid',dimension,4)"
   ]
  },
  {
   "cell_type": "code",
   "execution_count": null,
   "metadata": {},
   "outputs": [],
   "source": [
    "\n",
    "dimension = 'Fallecidos hoy absoluto'\n",
    "report_single_location_single_dimension('Cataluña',dimension)"
   ]
  },
  {
   "cell_type": "code",
   "execution_count": null,
   "metadata": {},
   "outputs": [],
   "source": [
    "dimension = 'Fallecidos hoy absoluto'\n",
    "report_single_location_single_dimension('Castilla y León',dimension)"
   ]
  },
  {
   "cell_type": "code",
   "execution_count": null,
   "metadata": {},
   "outputs": [],
   "source": [
    "dimension = 'Fallecidos hoy absoluto'\n",
    "report_single_location_single_dimension('Castilla La Mancha',dimension)"
   ]
  },
  {
   "cell_type": "markdown",
   "metadata": {},
   "source": [
    "# ¿ Son reales estas cifras ? \n",
    " \n",
    " Según reportaje de el mundo :https://www.elmundo.es/madrid/2020/04/07/5e8c427d21efa0b1668b45d6.html\n",
    " \n",
    "   Entre los días 15 y 31 de marzo fallecieron en Madrid capital, \"por todas las causas\", aunque la mayoría por coronavirus, 5.950 personas, cuando en 2019, en el mismo lapso, murieron 1.100 personas"
   ]
  },
  {
   "cell_type": "code",
   "execution_count": null,
   "metadata": {},
   "outputs": [],
   "source": [
    "from datetime import datetime\n",
    "import warnings\n",
    "warnings.filterwarnings('ignore')\n",
    "\n",
    "COMUNIDAD_A_CONSIDERAR = 'Madrid'\n",
    "comunidad = Loading_data.Get_Comunidad(COMUNIDAD_A_CONSIDERAR)\n",
    "\n",
    "\n",
    "comunidad.head(24).tail(15)['Fallecidos hoy absoluto'].sum()\n",
    "comunidad['Fecha'] = comunidad.index\n",
    "\n",
    "date1 = datetime.strptime('2020-03-15', '%Y-%m-%d')\n",
    "date2 = datetime.strptime('2020-04-01', '%Y-%m-%d')\n",
    "\n",
    "madrid_muertos_segun_sanidad = comunidad.loc[(comunidad['Fecha']>date1) & (comunidad['Fecha']<date2)]['Fallecidos hoy absoluto'].sum()\n",
    "\n",
    "display(HTML (\"Madrid muertos segun, <b>sanidad</b>, segunda quincena de Marzo:  <b>\" + str(madrid_muertos_segun_sanidad)+\"</b>\"))\n",
    "\n",
    "##\n",
    "\n",
    "madrid_muertos_segun_interior = 5950 - 1100\n",
    "\n",
    "\n",
    "display(HTML (\"Madrid muertos segun, <b>interior</b>, mismo intervalo: <b>\" + str(madrid_muertos_segun_interior)+\"</b>\"))\n",
    "\n",
    "\n",
    "porcentaje_error = (madrid_muertos_segun_interior - madrid_muertos_segun_sanidad) / madrid_muertos_segun_sanidad\n",
    "\n",
    "\n",
    "display(HTML (\"La diferencia porcentual entre los muertos de sanidad e interior es de  <b>\" + str(porcentaje_error) + \"</b>\") )\n",
    "\n",
    "prediccion_muertos = comunidad['Fallecidos hoy absoluto'].sum()* (1+porcentaje_error)\n",
    "\n",
    "\n",
    "\n",
    "display(HTML (\"El numero de <b>fallecidos en Madrid</b>, hasta ahora es de <b>\" + str(comunidad['Fallecidos hoy absoluto'].sum()) +\n",
    "         \"</b>, pero con el incremento del <b>\" + str(porcentaje_error) +\n",
    "         \"</b> ,la cifra real sería de : <b>\" + str(  int(prediccion_muertos)) + \"</b> muertos\" \n",
    "                                           ) )\n",
    "Dimension = 'Fallecidos hoy absoluto'\n",
    "df = Get_Dimension_CCAA(Dimension)\n",
    "\n",
    "df['Total Fallecidos'] = df.sum(axis=1)\n",
    "\n",
    "total_muertos_españa = int(df['Total Fallecidos'].sum())\n",
    "prediccion_muertos_españa = total_muertos_españa* (1+porcentaje_error)\n",
    "\n",
    "display(HTML (\"El numero de <b>fallecidos en España</b>, hasta ahora es de <b>\" + str(total_muertos_españa) +\n",
    "         \"</b>, pero con el incremento del <b>\" + str(porcentaje_error) +\n",
    "         \"</b> ,la cifra real sería de : <b>\" + str(  int(prediccion_muertos_españa)) + \"</b> muertos\"\n",
    "                                           ))"
   ]
  },
  {
   "cell_type": "code",
   "execution_count": null,
   "metadata": {},
   "outputs": [],
   "source": [
    "from datetime import datetime\n",
    "\n",
    "COMUNIDAD_A_CONSIDERAR = 'Madrid'\n",
    "#comunidad = Loading_data.Get_Comunidad(COMUNIDAD_A_CONSIDERAR)\n",
    "\n",
    "\n",
    "comunidad.head(24).tail(15)['Fallecidos hoy absoluto'].sum()\n",
    "comunidad['Fecha'] = comunidad.index\n",
    "\n",
    "date1 = datetime.strptime('2020-03-15', '%Y-%m-%d')\n",
    "date2 = datetime.strptime('2020-04-01', '%Y-%m-%d')\n",
    "\n",
    "comunidad.loc[(comunidad['Fecha']>date1) & (comunidad['Fecha']<date2)]['Fallecidos hoy absoluto'].sum()"
   ]
  },
  {
   "cell_type": "code",
   "execution_count": null,
   "metadata": {},
   "outputs": [],
   "source": [
    "y = [comunidad['Fallecidos hoy absoluto'].sum(),total_muertos_españa]\n",
    "z = [comunidad['Fallecidos hoy absoluto'].sum()* (1+porcentaje_error), total_muertos_españa* (1+porcentaje_error)]\n",
    "\n",
    "X = np.arange(2)\n",
    "\n",
    "ax=plt.subplot(111)\n",
    "plt.bar(X+0, y,color = 'b', width = 0.25)\n",
    "plt.bar(X+0.25, z,color = 'r', width = 0.25)\n",
    "\n",
    "\n",
    "ax.set_title(\"Diferencia entre las cifras de muertos para Madrid y España entre los ministerios de Sanidad e Interior\")\n"
   ]
  }
 ],
 "metadata": {
  "kernelspec": {
   "display_name": "Python 3",
   "language": "python",
   "name": "python3"
  },
  "language_info": {
   "codemirror_mode": {
    "name": "ipython",
    "version": 3
   },
   "file_extension": ".py",
   "mimetype": "text/x-python",
   "name": "python",
   "nbconvert_exporter": "python",
   "pygments_lexer": "ipython3",
   "version": "3.7.6"
  },
  "varInspector": {
   "cols": {
    "lenName": 16,
    "lenType": 16,
    "lenVar": 40
   },
   "kernels_config": {
    "python": {
     "delete_cmd_postfix": "",
     "delete_cmd_prefix": "del ",
     "library": "var_list.py",
     "varRefreshCmd": "print(var_dic_list())"
    },
    "r": {
     "delete_cmd_postfix": ") ",
     "delete_cmd_prefix": "rm(",
     "library": "var_list.r",
     "varRefreshCmd": "cat(var_dic_list()) "
    }
   },
   "types_to_exclude": [
    "module",
    "function",
    "builtin_function_or_method",
    "instance",
    "_Feature"
   ],
   "window_display": false
  }
 },
 "nbformat": 4,
 "nbformat_minor": 4
}
